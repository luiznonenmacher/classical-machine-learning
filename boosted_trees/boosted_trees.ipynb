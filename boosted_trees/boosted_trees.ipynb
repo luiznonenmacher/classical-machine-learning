{
 "cells": [
  {
   "cell_type": "markdown",
   "metadata": {},
   "source": [
    "# Data Import and Preparation"
   ]
  },
  {
   "cell_type": "code",
   "execution_count": 1,
   "metadata": {},
   "outputs": [
    {
     "name": "stderr",
     "output_type": "stream",
     "text": [
      "C:\\Users\\Poatek\\Anaconda3\\lib\\site-packages\\IPython\\core\\interactiveshell.py:3020: DtypeWarning: Columns (7,8) have mixed types. Specify dtype option on import or set low_memory=False.\n",
      "  interactivity=interactivity, compiler=compiler, result=result)\n"
     ]
    }
   ],
   "source": [
    "import pandas as pd, numpy as np, time\n",
    "from sklearn.model_selection import train_test_split\n",
    "\n",
    "data = pd.read_csv(\"flights.csv\")\n",
    "data = data.sample(frac = 0.2, random_state=10)\n",
    "\n",
    "data = data[[\"MONTH\",\"DAY\",\"DAY_OF_WEEK\",\"AIRLINE\",\"FLIGHT_NUMBER\",\"DESTINATION_AIRPORT\",\n",
    "                 \"ORIGIN_AIRPORT\",\"AIR_TIME\", \"DEPARTURE_TIME\",\"DISTANCE\",\"ARRIVAL_DELAY\"]]\n",
    "data.dropna(inplace=True)\n",
    "\n",
    "data[\"ARRIVAL_DELAY\"] = (data[\"ARRIVAL_DELAY\"]>10)*1\n",
    "\n",
    "cols = [\"AIRLINE\",\"FLIGHT_NUMBER\",\"DESTINATION_AIRPORT\",\"ORIGIN_AIRPORT\"]\n",
    "for item in cols:\n",
    "    data[item] = data[item].astype(\"category\").cat.codes +1\n",
    " \n",
    "x_train, x_test, y_train, y_test = train_test_split(data.drop([\"ARRIVAL_DELAY\"], axis=1), data[\"ARRIVAL_DELAY\"],\n",
    "                                                random_state=42, test_size=0.25)"
   ]
  },
  {
   "cell_type": "code",
   "execution_count": 37,
   "metadata": {},
   "outputs": [
    {
     "data": {
      "text/html": [
       "<div>\n",
       "<style scoped>\n",
       "    .dataframe tbody tr th:only-of-type {\n",
       "        vertical-align: middle;\n",
       "    }\n",
       "\n",
       "    .dataframe tbody tr th {\n",
       "        vertical-align: top;\n",
       "    }\n",
       "\n",
       "    .dataframe thead th {\n",
       "        text-align: right;\n",
       "    }\n",
       "</style>\n",
       "<table border=\"1\" class=\"dataframe\">\n",
       "  <thead>\n",
       "    <tr style=\"text-align: right;\">\n",
       "      <th></th>\n",
       "      <th>MONTH</th>\n",
       "      <th>DAY</th>\n",
       "      <th>DAY_OF_WEEK</th>\n",
       "      <th>AIRLINE</th>\n",
       "      <th>FLIGHT_NUMBER</th>\n",
       "      <th>DESTINATION_AIRPORT</th>\n",
       "      <th>ORIGIN_AIRPORT</th>\n",
       "      <th>AIR_TIME</th>\n",
       "      <th>DEPARTURE_TIME</th>\n",
       "      <th>DISTANCE</th>\n",
       "    </tr>\n",
       "  </thead>\n",
       "  <tbody>\n",
       "    <tr>\n",
       "      <th>1121366</th>\n",
       "      <td>3</td>\n",
       "      <td>14</td>\n",
       "      <td>6</td>\n",
       "      <td>5</td>\n",
       "      <td>4746</td>\n",
       "      <td>628</td>\n",
       "      <td>789</td>\n",
       "      <td>50.0</td>\n",
       "      <td>1703.0</td>\n",
       "      <td>296</td>\n",
       "    </tr>\n",
       "    <tr>\n",
       "      <th>4237324</th>\n",
       "      <td>9</td>\n",
       "      <td>21</td>\n",
       "      <td>1</td>\n",
       "      <td>5</td>\n",
       "      <td>4950</td>\n",
       "      <td>771</td>\n",
       "      <td>581</td>\n",
       "      <td>48.0</td>\n",
       "      <td>1459.0</td>\n",
       "      <td>302</td>\n",
       "    </tr>\n",
       "    <tr>\n",
       "      <th>3753128</th>\n",
       "      <td>8</td>\n",
       "      <td>21</td>\n",
       "      <td>5</td>\n",
       "      <td>9</td>\n",
       "      <td>845</td>\n",
       "      <td>737</td>\n",
       "      <td>646</td>\n",
       "      <td>120.0</td>\n",
       "      <td>1317.0</td>\n",
       "      <td>862</td>\n",
       "    </tr>\n",
       "    <tr>\n",
       "      <th>3554020</th>\n",
       "      <td>8</td>\n",
       "      <td>9</td>\n",
       "      <td>7</td>\n",
       "      <td>4</td>\n",
       "      <td>1544</td>\n",
       "      <td>765</td>\n",
       "      <td>654</td>\n",
       "      <td>45.0</td>\n",
       "      <td>1528.0</td>\n",
       "      <td>237</td>\n",
       "    </tr>\n",
       "    <tr>\n",
       "      <th>3970240</th>\n",
       "      <td>9</td>\n",
       "      <td>3</td>\n",
       "      <td>4</td>\n",
       "      <td>6</td>\n",
       "      <td>680</td>\n",
       "      <td>754</td>\n",
       "      <td>646</td>\n",
       "      <td>176.0</td>\n",
       "      <td>2349.0</td>\n",
       "      <td>1546</td>\n",
       "    </tr>\n",
       "  </tbody>\n",
       "</table>\n",
       "</div>"
      ],
      "text/plain": [
       "         MONTH  DAY  DAY_OF_WEEK  AIRLINE  FLIGHT_NUMBER  DESTINATION_AIRPORT  \\\n",
       "1121366      3   14            6        5           4746                  628   \n",
       "4237324      9   21            1        5           4950                  771   \n",
       "3753128      8   21            5        9            845                  737   \n",
       "3554020      8    9            7        4           1544                  765   \n",
       "3970240      9    3            4        6            680                  754   \n",
       "\n",
       "         ORIGIN_AIRPORT  AIR_TIME  DEPARTURE_TIME  DISTANCE  \n",
       "1121366             789      50.0          1703.0       296  \n",
       "4237324             581      48.0          1459.0       302  \n",
       "3753128             646     120.0          1317.0       862  \n",
       "3554020             654      45.0          1528.0       237  \n",
       "3970240             646     176.0          2349.0      1546  "
      ]
     },
     "execution_count": 37,
     "metadata": {},
     "output_type": "execute_result"
    }
   ],
   "source": [
    "x_train.head()"
   ]
  },
  {
   "cell_type": "code",
   "execution_count": 38,
   "metadata": {},
   "outputs": [
    {
     "data": {
      "text/plain": [
       "1121366    0\n",
       "4237324    0\n",
       "3753128    0\n",
       "3554020    0\n",
       "3970240    0\n",
       "Name: ARRIVAL_DELAY, dtype: int32"
      ]
     },
     "execution_count": 38,
     "metadata": {},
     "output_type": "execute_result"
    }
   ],
   "source": [
    "y_train.head()"
   ]
  },
  {
   "cell_type": "code",
   "execution_count": 39,
   "metadata": {},
   "outputs": [],
   "source": [
    "from time import time\n",
    "from sklearn.metrics import roc_auc_score"
   ]
  },
  {
   "cell_type": "markdown",
   "metadata": {},
   "source": [
    "### Random Forests"
   ]
  },
  {
   "cell_type": "code",
   "execution_count": 40,
   "metadata": {},
   "outputs": [],
   "source": [
    "from sklearn.ensemble import RandomForestClassifier\n",
    "\n",
    "start = time()      \n",
    "rf = RandomForestClassifier(n_estimators=100, n_jobs=-1)\n",
    "rf.fit(x_train, y_train)\n",
    "end = time() \n",
    "\n",
    "rf_training_time = end - start\n",
    "\n",
    "train_predictions = rf.predict(x_train)\n",
    "test_predictions = rf.predict(x_test)\n",
    "\n",
    "rf_train_auc = roc_auc_score(train_predictions, y_train)\n",
    "rf_test_auc = roc_auc_score(test_predictions, y_test)"
   ]
  },
  {
   "cell_type": "code",
   "execution_count": 41,
   "metadata": {},
   "outputs": [
    {
     "name": "stdout",
     "output_type": "stream",
     "text": [
      "Training time: 95.59, train_auc: 1.0, test_auc = 0.7917\n"
     ]
    }
   ],
   "source": [
    "print('Training time: {}, train_auc: {}, test_auc = {}'.format(round(rf_training_time,2), \n",
    "                                                               round(rf_train_auc,4), \n",
    "                                                               round(rf_test_auc,4)))"
   ]
  },
  {
   "cell_type": "markdown",
   "metadata": {},
   "source": [
    "### XGBoost"
   ]
  },
  {
   "cell_type": "code",
   "execution_count": 42,
   "metadata": {},
   "outputs": [],
   "source": [
    "import xgboost as xgb\n",
    "\n",
    "start = time() \n",
    "xgb = xgb.XGBClassifier(n_estimators=100, random_state=42)\n",
    "xgb.fit(x_train, y_train)\n",
    "end = time() \n",
    "\n",
    "xgb_training_time = end - start\n",
    "\n",
    "train_predictions = xgb.predict(x_train)\n",
    "test_predictions = xgb.predict(x_test)\n",
    "\n",
    "xgb_train_auc = roc_auc_score(train_predictions, y_train)\n",
    "xgb_test_auc = roc_auc_score(test_predictions, y_test)"
   ]
  },
  {
   "cell_type": "code",
   "execution_count": 43,
   "metadata": {},
   "outputs": [
    {
     "name": "stdout",
     "output_type": "stream",
     "text": [
      "Training time: 71.77, train_auc: 0.8016, test_auc = 0.8031\n"
     ]
    }
   ],
   "source": [
    "print('Training time: {}, train_auc: {}, test_auc = {}'.format(round(xgb_training_time,2), \n",
    "                                                               round(xgb_train_auc,4), \n",
    "                                                               round(xgb_test_auc,4)))"
   ]
  },
  {
   "cell_type": "markdown",
   "metadata": {},
   "source": [
    "### Light GBM"
   ]
  },
  {
   "cell_type": "markdown",
   "metadata": {},
   "source": [
    "Without categorical Features"
   ]
  },
  {
   "cell_type": "code",
   "execution_count": 46,
   "metadata": {},
   "outputs": [],
   "source": [
    "import lightgbm as lgb\n",
    "\n",
    "start = time()         \n",
    "lgb = lgb.LGBMClassifier(n_estimators=100, random_state=42)\n",
    "lgb.fit(x_train, y_train)\n",
    "end = time() \n",
    "lgb_training_time = end - start\n",
    "\n",
    "train_predictions = lgb.predict(x_train)\n",
    "test_predictions = lgb.predict(x_test)\n",
    "\n",
    "lgb_train_auc = roc_auc_score(train_predictions, y_train)\n",
    "lgb_test_auc = roc_auc_score(test_predictions, y_test)"
   ]
  },
  {
   "cell_type": "code",
   "execution_count": 47,
   "metadata": {},
   "outputs": [
    {
     "name": "stdout",
     "output_type": "stream",
     "text": [
      "Training time: 9.74, train_auc: 0.7738, test_auc = 0.7719\n"
     ]
    }
   ],
   "source": [
    "print('Training time: {}, train_auc: {}, test_auc = {}'.format(round(lgb_training_time,2), \n",
    "                                                               round(lgb_train_auc,4), \n",
    "                                                               round(lgb_test_auc,4)))"
   ]
  },
  {
   "cell_type": "markdown",
   "metadata": {},
   "source": [
    "### CatBoost"
   ]
  },
  {
   "cell_type": "code",
   "execution_count": 48,
   "metadata": {},
   "outputs": [],
   "source": [
    "import catboost as cb\n",
    "\n",
    "start = time()  \n",
    "cb = cb.CatBoostClassifier(n_estimators=100, verbose=False, random_state=42)\n",
    "cb.fit(x_train, y_train)\n",
    "end = time() \n",
    "cb_training_time = end - start\n",
    "\n",
    "train_predictions = cb.predict(x_train)\n",
    "test_predictions = cb.predict(x_test)\n",
    "\n",
    "cb_train_auc = roc_auc_score(train_predictions, y_train)\n",
    "cb_test_auc = roc_auc_score(test_predictions, y_test)"
   ]
  },
  {
   "cell_type": "code",
   "execution_count": 49,
   "metadata": {},
   "outputs": [
    {
     "name": "stdout",
     "output_type": "stream",
     "text": [
      "Training time: 28.04, train_auc: 0.7607, test_auc = 0.7568\n"
     ]
    }
   ],
   "source": [
    "print('Training time: {}, train_auc: {}, test_auc = {}'.format(round(cb_training_time,2), \n",
    "                                                               round(cb_train_auc,4), \n",
    "                                                               round(cb_test_auc,4)))"
   ]
  }
 ],
 "metadata": {
  "kernelspec": {
   "display_name": "Python 3",
   "language": "python",
   "name": "python3"
  },
  "language_info": {
   "codemirror_mode": {
    "name": "ipython",
    "version": 3
   },
   "file_extension": ".py",
   "mimetype": "text/x-python",
   "name": "python",
   "nbconvert_exporter": "python",
   "pygments_lexer": "ipython3",
   "version": "3.7.1"
  }
 },
 "nbformat": 4,
 "nbformat_minor": 2
}
